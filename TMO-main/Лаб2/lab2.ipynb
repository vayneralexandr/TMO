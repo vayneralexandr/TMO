{
 "cells": [
  {
   "cell_type": "code",
   "execution_count": 1,
   "metadata": {},
   "outputs": [],
   "source": [
    "import numpy as np\n",
    "import pandas as pd\n",
    "import seaborn as sns\n",
    "import matplotlib.pyplot as plt"
   ]
  },
  {
   "cell_type": "code",
   "execution_count": 2,
   "metadata": {},
   "outputs": [],
   "source": [
    "data = pd.read_csv('netflix.csv', sep=\",\")"
   ]
  },
  {
   "cell_type": "code",
   "execution_count": 3,
   "metadata": {},
   "outputs": [
    {
     "data": {
      "text/plain": [
       "(363, 6)"
      ]
     },
     "execution_count": 3,
     "metadata": {},
     "output_type": "execute_result"
    }
   ],
   "source": [
    "data.shape"
   ]
  },
  {
   "cell_type": "code",
   "execution_count": 4,
   "metadata": {},
   "outputs": [
    {
     "data": {
      "text/plain": [
       "Title       object\n",
       "Genre       object\n",
       "Language    object\n",
       "Premiere    object\n",
       "Runtime     object\n",
       "Seasons     object\n",
       "dtype: object"
      ]
     },
     "execution_count": 4,
     "metadata": {},
     "output_type": "execute_result"
    }
   ],
   "source": [
    "data.dtypes"
   ]
  },
  {
   "cell_type": "code",
   "execution_count": 5,
   "metadata": {},
   "outputs": [
    {
     "data": {
      "text/plain": [
       "Title        2\n",
       "Genre       37\n",
       "Language     0\n",
       "Premiere     2\n",
       "Runtime      2\n",
       "Seasons      2\n",
       "dtype: int64"
      ]
     },
     "execution_count": 5,
     "metadata": {},
     "output_type": "execute_result"
    }
   ],
   "source": [
    "data.isnull().sum()"
   ]
  },
  {
   "cell_type": "code",
   "execution_count": 6,
   "metadata": {},
   "outputs": [
    {
     "data": {
      "text/html": [
       "<div>\n",
       "<style scoped>\n",
       "    .dataframe tbody tr th:only-of-type {\n",
       "        vertical-align: middle;\n",
       "    }\n",
       "\n",
       "    .dataframe tbody tr th {\n",
       "        vertical-align: top;\n",
       "    }\n",
       "\n",
       "    .dataframe thead th {\n",
       "        text-align: right;\n",
       "    }\n",
       "</style>\n",
       "<table border=\"1\" class=\"dataframe\">\n",
       "  <thead>\n",
       "    <tr style=\"text-align: right;\">\n",
       "      <th></th>\n",
       "      <th>Title</th>\n",
       "      <th>Genre</th>\n",
       "      <th>Language</th>\n",
       "      <th>Premiere</th>\n",
       "      <th>Runtime</th>\n",
       "      <th>Seasons</th>\n",
       "    </tr>\n",
       "  </thead>\n",
       "  <tbody>\n",
       "    <tr>\n",
       "      <th>0</th>\n",
       "      <td>Stranger Things</td>\n",
       "      <td>Science fiction/horror</td>\n",
       "      <td>English</td>\n",
       "      <td>July 15, 2016</td>\n",
       "      <td>42–78 min</td>\n",
       "      <td>3 seasons, 25 episodes</td>\n",
       "    </tr>\n",
       "    <tr>\n",
       "      <th>1</th>\n",
       "      <td>The Crown</td>\n",
       "      <td>Historical drama</td>\n",
       "      <td>English</td>\n",
       "      <td>November 4, 2016</td>\n",
       "      <td>47–61 min</td>\n",
       "      <td>4 seasons, 40 episodes</td>\n",
       "    </tr>\n",
       "    <tr>\n",
       "      <th>2</th>\n",
       "      <td>Ozark</td>\n",
       "      <td>Crime drama</td>\n",
       "      <td>English</td>\n",
       "      <td>July 21, 2017</td>\n",
       "      <td>50–80 min</td>\n",
       "      <td>4 seasons, 37 episodes</td>\n",
       "    </tr>\n",
       "    <tr>\n",
       "      <th>3</th>\n",
       "      <td>The Umbrella Academy</td>\n",
       "      <td>Superhero action</td>\n",
       "      <td>English</td>\n",
       "      <td>February 15, 2019</td>\n",
       "      <td>40–60 min</td>\n",
       "      <td>2 seasons, 20 episodes</td>\n",
       "    </tr>\n",
       "    <tr>\n",
       "      <th>4</th>\n",
       "      <td>Black Summer</td>\n",
       "      <td>Apocalyptic fiction drama</td>\n",
       "      <td>English</td>\n",
       "      <td>April 11, 2019</td>\n",
       "      <td>21–58 min</td>\n",
       "      <td>2 seasons, 16 episodes</td>\n",
       "    </tr>\n",
       "  </tbody>\n",
       "</table>\n",
       "</div>"
      ],
      "text/plain": [
       "                  Title                      Genre Language  \\\n",
       "0       Stranger Things     Science fiction/horror  English   \n",
       "1             The Crown           Historical drama  English   \n",
       "2                 Ozark                Crime drama  English   \n",
       "3  The Umbrella Academy           Superhero action  English   \n",
       "4          Black Summer  Apocalyptic fiction drama  English   \n",
       "\n",
       "            Premiere    Runtime                 Seasons  \n",
       "0      July 15, 2016  42–78 min  3 seasons, 25 episodes  \n",
       "1   November 4, 2016  47–61 min  4 seasons, 40 episodes  \n",
       "2      July 21, 2017  50–80 min  4 seasons, 37 episodes  \n",
       "3  February 15, 2019  40–60 min  2 seasons, 20 episodes  \n",
       "4     April 11, 2019  21–58 min  2 seasons, 16 episodes  "
      ]
     },
     "execution_count": 6,
     "metadata": {},
     "output_type": "execute_result"
    }
   ],
   "source": [
    "data.head()"
   ]
  },
  {
   "cell_type": "code",
   "execution_count": 7,
   "metadata": {},
   "outputs": [
    {
     "name": "stdout",
     "output_type": "stream",
     "text": [
      "Колонка Title. Тип данных object. Количество пустых значений 2, 0.55%.\n",
      "Колонка Genre. Тип данных object. Количество пустых значений 37, 10.19%.\n",
      "Колонка Premiere. Тип данных object. Количество пустых значений 2, 0.55%.\n",
      "Колонка Runtime. Тип данных object. Количество пустых значений 2, 0.55%.\n",
      "Колонка Seasons. Тип данных object. Количество пустых значений 2, 0.55%.\n"
     ]
    }
   ],
   "source": [
    "total_count = data.shape[0]\n",
    "cat_cols = []\n",
    "for col in data.columns:\n",
    "    # Количество пустых значений \n",
    "    temp_null_count = data[data[col].isnull()].shape[0]\n",
    "    dt = str(data[col].dtype)\n",
    "    if temp_null_count>0 and (dt=='object'):\n",
    "        cat_cols.append(col)\n",
    "        temp_perc = round((temp_null_count / total_count) * 100.0, 2)\n",
    "        print('Колонка {}. Тип данных {}. Количество пустых значений {}, {}%.'.format(col, dt, temp_null_count, temp_perc))"
   ]
  },
  {
   "cell_type": "code",
   "execution_count": 8,
   "metadata": {},
   "outputs": [],
   "source": [
    "data = data.loc[data['Premiere'] != \"Awaiting release\"]\n",
    "data = data.loc[data['Premiere'] != \"TBA\"]\n",
    "data = data.loc[data['Seasons'] != \"Awaiting release\"]\n",
    "data = data.loc[data['Seasons'] != \"TBA\"]\n",
    "data = data.loc[data['Runtime'] != \"Awaiting release\"]\n",
    "data = data.loc[data['Runtime'] != \"TBA\"]"
   ]
  },
  {
   "cell_type": "code",
   "execution_count": 9,
   "metadata": {},
   "outputs": [
    {
     "data": {
      "text/plain": [
       "(319, 6)"
      ]
     },
     "execution_count": 9,
     "metadata": {},
     "output_type": "execute_result"
    }
   ],
   "source": [
    "data.shape"
   ]
  },
  {
   "cell_type": "code",
   "execution_count": 10,
   "metadata": {},
   "outputs": [],
   "source": [
    "# Удаление колонок, содержащих пустые значения\n",
    "data = data.dropna(axis=0, how='any')"
   ]
  },
  {
   "cell_type": "code",
   "execution_count": 11,
   "metadata": {},
   "outputs": [
    {
     "data": {
      "text/plain": [
       "(286, 6)"
      ]
     },
     "execution_count": 11,
     "metadata": {},
     "output_type": "execute_result"
    }
   ],
   "source": [
    "data.shape"
   ]
  },
  {
   "cell_type": "code",
   "execution_count": 12,
   "metadata": {},
   "outputs": [],
   "source": [
    "def getDate(row):\n",
    "    dateParts = row.split(\" \")\n",
    "    year = dateParts[2]\n",
    "    year = year[:4]\n",
    "    return int(year)"
   ]
  },
  {
   "cell_type": "code",
   "execution_count": 13,
   "metadata": {},
   "outputs": [],
   "source": [
    "data['Premiere'] = data['Premiere'].apply(getDate)"
   ]
  },
  {
   "cell_type": "code",
   "execution_count": 14,
   "metadata": {},
   "outputs": [
    {
     "data": {
      "text/plain": [
       "array([2016, 2017, 2019, 2020, 2021, 2022, 2015, 2018])"
      ]
     },
     "execution_count": 14,
     "metadata": {},
     "output_type": "execute_result"
    }
   ],
   "source": [
    "data.Premiere.unique()"
   ]
  },
  {
   "cell_type": "code",
   "execution_count": 15,
   "metadata": {},
   "outputs": [
    {
     "data": {
      "text/html": [
       "<div>\n",
       "<style scoped>\n",
       "    .dataframe tbody tr th:only-of-type {\n",
       "        vertical-align: middle;\n",
       "    }\n",
       "\n",
       "    .dataframe tbody tr th {\n",
       "        vertical-align: top;\n",
       "    }\n",
       "\n",
       "    .dataframe thead th {\n",
       "        text-align: right;\n",
       "    }\n",
       "</style>\n",
       "<table border=\"1\" class=\"dataframe\">\n",
       "  <thead>\n",
       "    <tr style=\"text-align: right;\">\n",
       "      <th></th>\n",
       "      <th>Title</th>\n",
       "      <th>Genre</th>\n",
       "      <th>Language</th>\n",
       "      <th>Premiere</th>\n",
       "      <th>Runtime</th>\n",
       "      <th>Seasons</th>\n",
       "    </tr>\n",
       "  </thead>\n",
       "  <tbody>\n",
       "    <tr>\n",
       "      <th>0</th>\n",
       "      <td>Stranger Things</td>\n",
       "      <td>Science fiction/horror</td>\n",
       "      <td>English</td>\n",
       "      <td>2016</td>\n",
       "      <td>42–78 min</td>\n",
       "      <td>3 seasons, 25 episodes</td>\n",
       "    </tr>\n",
       "    <tr>\n",
       "      <th>1</th>\n",
       "      <td>The Crown</td>\n",
       "      <td>Historical drama</td>\n",
       "      <td>English</td>\n",
       "      <td>2016</td>\n",
       "      <td>47–61 min</td>\n",
       "      <td>4 seasons, 40 episodes</td>\n",
       "    </tr>\n",
       "    <tr>\n",
       "      <th>2</th>\n",
       "      <td>Ozark</td>\n",
       "      <td>Crime drama</td>\n",
       "      <td>English</td>\n",
       "      <td>2017</td>\n",
       "      <td>50–80 min</td>\n",
       "      <td>4 seasons, 37 episodes</td>\n",
       "    </tr>\n",
       "    <tr>\n",
       "      <th>3</th>\n",
       "      <td>The Umbrella Academy</td>\n",
       "      <td>Superhero action</td>\n",
       "      <td>English</td>\n",
       "      <td>2019</td>\n",
       "      <td>40–60 min</td>\n",
       "      <td>2 seasons, 20 episodes</td>\n",
       "    </tr>\n",
       "    <tr>\n",
       "      <th>4</th>\n",
       "      <td>Black Summer</td>\n",
       "      <td>Apocalyptic fiction drama</td>\n",
       "      <td>English</td>\n",
       "      <td>2019</td>\n",
       "      <td>21–58 min</td>\n",
       "      <td>2 seasons, 16 episodes</td>\n",
       "    </tr>\n",
       "  </tbody>\n",
       "</table>\n",
       "</div>"
      ],
      "text/plain": [
       "                  Title                      Genre Language  Premiere  \\\n",
       "0       Stranger Things     Science fiction/horror  English      2016   \n",
       "1             The Crown           Historical drama  English      2016   \n",
       "2                 Ozark                Crime drama  English      2017   \n",
       "3  The Umbrella Academy           Superhero action  English      2019   \n",
       "4          Black Summer  Apocalyptic fiction drama  English      2019   \n",
       "\n",
       "     Runtime                 Seasons  \n",
       "0  42–78 min  3 seasons, 25 episodes  \n",
       "1  47–61 min  4 seasons, 40 episodes  \n",
       "2  50–80 min  4 seasons, 37 episodes  \n",
       "3  40–60 min  2 seasons, 20 episodes  \n",
       "4  21–58 min  2 seasons, 16 episodes  "
      ]
     },
     "execution_count": 15,
     "metadata": {},
     "output_type": "execute_result"
    }
   ],
   "source": [
    "data.head()"
   ]
  },
  {
   "cell_type": "code",
   "execution_count": 1,
   "metadata": {},
   "outputs": [
    {
     "ename": "NameError",
     "evalue": "name 'data' is not defined",
     "output_type": "error",
     "traceback": [
      "\u001b[1;31m---------------------------------------------------------------------------\u001b[0m",
      "\u001b[1;31mNameError\u001b[0m                                 Traceback (most recent call last)",
      "\u001b[1;32m~\\AppData\\Local\\Temp/ipykernel_6032/1506694816.py\u001b[0m in \u001b[0;36m<module>\u001b[1;34m\u001b[0m\n\u001b[1;32m----> 1\u001b[1;33m \u001b[1;32mfor\u001b[0m \u001b[0mindex\u001b[0m\u001b[1;33m,\u001b[0m \u001b[0mgenre\u001b[0m \u001b[1;32min\u001b[0m \u001b[0menumerate\u001b[0m\u001b[1;33m(\u001b[0m\u001b[0mdata\u001b[0m\u001b[1;33m.\u001b[0m\u001b[0mGenre\u001b[0m\u001b[1;33m)\u001b[0m\u001b[1;33m:\u001b[0m\u001b[1;33m\u001b[0m\u001b[1;33m\u001b[0m\u001b[0m\n\u001b[0m\u001b[0;32m      2\u001b[0m     \u001b[0mlowerGenre\u001b[0m \u001b[1;33m=\u001b[0m \u001b[0mgenre\u001b[0m\u001b[1;33m.\u001b[0m\u001b[0mlower\u001b[0m\u001b[1;33m(\u001b[0m\u001b[1;33m)\u001b[0m\u001b[1;33m\u001b[0m\u001b[1;33m\u001b[0m\u001b[0m\n\u001b[0;32m      3\u001b[0m     \u001b[1;32mif\u001b[0m \u001b[1;34m\"horror\"\u001b[0m \u001b[1;32min\u001b[0m \u001b[0mlowerGenre\u001b[0m\u001b[1;33m:\u001b[0m\u001b[1;33m\u001b[0m\u001b[1;33m\u001b[0m\u001b[0m\n\u001b[0;32m      4\u001b[0m         \u001b[0mdata\u001b[0m\u001b[1;33m.\u001b[0m\u001b[0mGenre\u001b[0m\u001b[1;33m[\u001b[0m\u001b[0mindex\u001b[0m\u001b[1;33m]\u001b[0m \u001b[1;33m=\u001b[0m \u001b[1;34m\"Horror\"\u001b[0m\u001b[1;33m\u001b[0m\u001b[1;33m\u001b[0m\u001b[0m\n\u001b[0;32m      5\u001b[0m     \u001b[1;32mif\u001b[0m \u001b[1;34m\"drama\"\u001b[0m \u001b[1;32min\u001b[0m \u001b[0mlowerGenre\u001b[0m\u001b[1;33m:\u001b[0m\u001b[1;33m\u001b[0m\u001b[1;33m\u001b[0m\u001b[0m\n",
      "\u001b[1;31mNameError\u001b[0m: name 'data' is not defined"
     ]
    }
   ],
   "source": [
    "for index, genre in enumerate(data.Genre):\n",
    "    lowerGenre = genre.lower()\n",
    "    if \"horror\" in lowerGenre:\n",
    "        data.Genre[index] = \"Horror\"\n",
    "    if \"drama\" in lowerGenre:\n",
    "        data.Genre[index] = \"Drama\"\n",
    "    if \"comedy\" in lowerGenre:\n",
    "        data.Genre[index] = \"Comedy\"\n",
    "    if \"show\" in lowerGenre:\n",
    "        data.Genre[index] = \"Show\"\n",
    "    if \"thriller\" in lowerGenre:\n",
    "        data.Genre[index] = \"Thriller\"\n",
    "    if \"fantasy\" in lowerGenre:\n",
    "        data.Genre[index] = \"Fantasy\"\n",
    "    if \"crime\" in lowerGenre:\n",
    "        data.Genre[index] = \"Crime\"\n",
    "    if \"reality\" in lowerGenre:\n",
    "        data.Genre[index] = \"Reality\"\n",
    "    if \"action\" in lowerGenre:\n",
    "        data.Genre[index] = \"Action\"\n",
    "    if \"documentary\" in lowerGenre:\n",
    "        data.Genre[index] = \"Documentary\"\n",
    "    if \"science fiction\" in lowerGenre:\n",
    "        data.Genre[index] = \"Science fiction\"\n",
    "    if \"dramedy\" in lowerGenre:\n",
    "        data.Genre[index] = \"Dramedy\""
   ]
  },
  {
   "cell_type": "code",
   "execution_count": 17,
   "metadata": {
    "scrolled": true
   },
   "outputs": [
    {
     "data": {
      "text/plain": [
       "array(['Science fiction', 'Drama', 'Crime', 'Action', 'Fantasy',\n",
       "       'Thriller', 'Historical romance', 'Horror', 'Comedy',\n",
       "       'Comedy-drama', 'Sitcom', 'Reality', 'Crime comedy/Reality show',\n",
       "       'Mecha/Kaiju', 'Dramedy', 'Documentary', 'Military drama',\n",
       "       'Survival thriller', 'Crime thriller', 'Supernatural drama',\n",
       "       'Science fiction thriller', 'Romantic drama',\n",
       "       'Suspense thriller/Melodrama', 'Fantasy superhero drama',\n",
       "       'Comedy drama', 'Crime drama', 'Fantasy thriller', 'Teen drama',\n",
       "       'Show', 'Docuseries', 'Educational', 'True crime',\n",
       "       'Baking competition', 'Reality competition', 'Dating show',\n",
       "       'Reality show', 'Travel reality', 'Docu-soap', 'Docu-reality',\n",
       "       'Makeover reality', 'Talk show', 'Crime comedy/Variety show',\n",
       "       'Nature docuseries', 'Mystery teen drama',\n",
       "       'Psychological thriller', 'Martial arts/Action dramedy',\n",
       "       'Teen mystery thriller anthology', 'Teen mystery thriller',\n",
       "       'Crime teen drama', 'Aftershow', 'Animation',\n",
       "       'Adult animated horror comedy', 'Animated science fiction fantasy',\n",
       "       'Science fiction/Superhero'], dtype=object)"
      ]
     },
     "execution_count": 17,
     "metadata": {},
     "output_type": "execute_result"
    }
   ],
   "source": [
    "data.Genre.unique()"
   ]
  },
  {
   "cell_type": "code",
   "execution_count": 18,
   "metadata": {},
   "outputs": [],
   "source": [
    "def getSeason(row):\n",
    "    seasonNum = row[0]\n",
    "    return int(seasonNum)"
   ]
  },
  {
   "cell_type": "code",
   "execution_count": 19,
   "metadata": {},
   "outputs": [],
   "source": [
    "data['Seasons'] = data['Seasons'].apply(getSeason)"
   ]
  },
  {
   "cell_type": "code",
   "execution_count": 20,
   "metadata": {},
   "outputs": [
    {
     "data": {
      "text/plain": [
       "array([3, 4, 2, 1, 7, 5, 6])"
      ]
     },
     "execution_count": 20,
     "metadata": {},
     "output_type": "execute_result"
    }
   ],
   "source": [
    "data.Seasons.unique()"
   ]
  },
  {
   "cell_type": "code",
   "execution_count": 21,
   "metadata": {},
   "outputs": [
    {
     "data": {
      "text/html": [
       "<div>\n",
       "<style scoped>\n",
       "    .dataframe tbody tr th:only-of-type {\n",
       "        vertical-align: middle;\n",
       "    }\n",
       "\n",
       "    .dataframe tbody tr th {\n",
       "        vertical-align: top;\n",
       "    }\n",
       "\n",
       "    .dataframe thead th {\n",
       "        text-align: right;\n",
       "    }\n",
       "</style>\n",
       "<table border=\"1\" class=\"dataframe\">\n",
       "  <thead>\n",
       "    <tr style=\"text-align: right;\">\n",
       "      <th></th>\n",
       "      <th>Title</th>\n",
       "      <th>Genre</th>\n",
       "      <th>Language</th>\n",
       "      <th>Premiere</th>\n",
       "      <th>Runtime</th>\n",
       "      <th>Seasons</th>\n",
       "    </tr>\n",
       "  </thead>\n",
       "  <tbody>\n",
       "    <tr>\n",
       "      <th>0</th>\n",
       "      <td>Stranger Things</td>\n",
       "      <td>Science fiction</td>\n",
       "      <td>English</td>\n",
       "      <td>2016</td>\n",
       "      <td>42–78 min</td>\n",
       "      <td>3</td>\n",
       "    </tr>\n",
       "    <tr>\n",
       "      <th>1</th>\n",
       "      <td>The Crown</td>\n",
       "      <td>Drama</td>\n",
       "      <td>English</td>\n",
       "      <td>2016</td>\n",
       "      <td>47–61 min</td>\n",
       "      <td>4</td>\n",
       "    </tr>\n",
       "    <tr>\n",
       "      <th>2</th>\n",
       "      <td>Ozark</td>\n",
       "      <td>Crime</td>\n",
       "      <td>English</td>\n",
       "      <td>2017</td>\n",
       "      <td>50–80 min</td>\n",
       "      <td>4</td>\n",
       "    </tr>\n",
       "    <tr>\n",
       "      <th>3</th>\n",
       "      <td>The Umbrella Academy</td>\n",
       "      <td>Action</td>\n",
       "      <td>English</td>\n",
       "      <td>2019</td>\n",
       "      <td>40–60 min</td>\n",
       "      <td>2</td>\n",
       "    </tr>\n",
       "    <tr>\n",
       "      <th>4</th>\n",
       "      <td>Black Summer</td>\n",
       "      <td>Drama</td>\n",
       "      <td>English</td>\n",
       "      <td>2019</td>\n",
       "      <td>21–58 min</td>\n",
       "      <td>2</td>\n",
       "    </tr>\n",
       "  </tbody>\n",
       "</table>\n",
       "</div>"
      ],
      "text/plain": [
       "                  Title            Genre Language  Premiere    Runtime  \\\n",
       "0       Stranger Things  Science fiction  English      2016  42–78 min   \n",
       "1             The Crown            Drama  English      2016  47–61 min   \n",
       "2                 Ozark            Crime  English      2017  50–80 min   \n",
       "3  The Umbrella Academy           Action  English      2019  40–60 min   \n",
       "4          Black Summer            Drama  English      2019  21–58 min   \n",
       "\n",
       "   Seasons  \n",
       "0        3  \n",
       "1        4  \n",
       "2        4  \n",
       "3        2  \n",
       "4        2  "
      ]
     },
     "execution_count": 21,
     "metadata": {},
     "output_type": "execute_result"
    }
   ],
   "source": [
    "data.head()"
   ]
  },
  {
   "cell_type": "code",
   "execution_count": 22,
   "metadata": {},
   "outputs": [],
   "source": [
    "def getRuntime(row):\n",
    "    RuntimeParts = row.split(\" \")\n",
    "    times = RuntimeParts[0].split(\"–\")\n",
    "    if len(times) == 1:\n",
    "        return int(times[0])\n",
    "    resultTime = (int(times[0]) + int(times[1])) / 2\n",
    "    return resultTime"
   ]
  },
  {
   "cell_type": "code",
   "execution_count": 23,
   "metadata": {},
   "outputs": [],
   "source": [
    "data['Runtime'] = data['Runtime'].apply(getRuntime)"
   ]
  },
  {
   "cell_type": "code",
   "execution_count": 24,
   "metadata": {},
   "outputs": [
    {
     "data": {
      "text/plain": [
       "array([60. , 54. , 65. , 50. , 39.5, 44. , 44.5, 57. , 48. , 51.5, 48.5,\n",
       "       43.5, 53.5, 64.5, 55. , 45. , 38. , 47.5, 46. , 47. , 52. , 30. ,\n",
       "       38.5, 27.5, 16.5, 29.5, 29. , 27. , 30.5, 26.5, 31. , 49.5, 35. ,\n",
       "       24. , 25.5, 32. , 35.5, 12. , 26. , 23.5, 18. , 28.5, 19. , 21. ,\n",
       "       25. , 17.5, 24.5, 50.5, 23. , 36. , 43. , 34. , 54.5, 37. , 58. ,\n",
       "       28. , 42.5, 41. , 49. , 41.5, 46.5, 51. , 62. , 61.5, 37.5, 39. ,\n",
       "       57.5, 40.5, 12.5, 40. , 59. , 20. , 22.5, 53. , 16. , 55.5, 52.5,\n",
       "       31.5, 62.5, 70. , 32.5, 58.5, 34.5, 42. , 33. , 68.5, 66. , 64. ,\n",
       "       56.5, 14.5,  4.5, 11.5,  5. , 22. ])"
      ]
     },
     "execution_count": 24,
     "metadata": {},
     "output_type": "execute_result"
    }
   ],
   "source": [
    "data['Runtime'].unique()"
   ]
  },
  {
   "cell_type": "code",
   "execution_count": 25,
   "metadata": {},
   "outputs": [
    {
     "data": {
      "text/plain": [
       "Title        object\n",
       "Genre        object\n",
       "Language     object\n",
       "Premiere      int64\n",
       "Runtime     float64\n",
       "Seasons       int64\n",
       "dtype: object"
      ]
     },
     "execution_count": 25,
     "metadata": {},
     "output_type": "execute_result"
    }
   ],
   "source": [
    "data.dtypes"
   ]
  },
  {
   "cell_type": "code",
   "execution_count": 26,
   "metadata": {},
   "outputs": [],
   "source": [
    "from sklearn.preprocessing import LabelEncoder"
   ]
  },
  {
   "cell_type": "code",
   "execution_count": 27,
   "metadata": {},
   "outputs": [],
   "source": [
    "le_lang = LabelEncoder()\n",
    "cat_language_le = le_lang.fit_transform(data['Language'])\n",
    "le_genre = LabelEncoder()\n",
    "cat_genre_le = le_genre.fit_transform(data['Genre'])\n",
    "le_title = LabelEncoder()\n",
    "cat_title_le = le_title.fit_transform(data['Title'])"
   ]
  },
  {
   "cell_type": "code",
   "execution_count": 28,
   "metadata": {},
   "outputs": [
    {
     "data": {
      "text/html": [
       "<div>\n",
       "<style scoped>\n",
       "    .dataframe tbody tr th:only-of-type {\n",
       "        vertical-align: middle;\n",
       "    }\n",
       "\n",
       "    .dataframe tbody tr th {\n",
       "        vertical-align: top;\n",
       "    }\n",
       "\n",
       "    .dataframe thead th {\n",
       "        text-align: right;\n",
       "    }\n",
       "</style>\n",
       "<table border=\"1\" class=\"dataframe\">\n",
       "  <thead>\n",
       "    <tr style=\"text-align: right;\">\n",
       "      <th></th>\n",
       "      <th>Title</th>\n",
       "      <th>Genre</th>\n",
       "      <th>Language</th>\n",
       "      <th>Premiere</th>\n",
       "      <th>Runtime</th>\n",
       "      <th>Seasons</th>\n",
       "    </tr>\n",
       "  </thead>\n",
       "  <tbody>\n",
       "    <tr>\n",
       "      <th>0</th>\n",
       "      <td>212</td>\n",
       "      <td>39</td>\n",
       "      <td>2</td>\n",
       "      <td>2016</td>\n",
       "      <td>60.0</td>\n",
       "      <td>3</td>\n",
       "    </tr>\n",
       "    <tr>\n",
       "      <th>1</th>\n",
       "      <td>230</td>\n",
       "      <td>20</td>\n",
       "      <td>2</td>\n",
       "      <td>2016</td>\n",
       "      <td>54.0</td>\n",
       "      <td>4</td>\n",
       "    </tr>\n",
       "    <tr>\n",
       "      <th>2</th>\n",
       "      <td>164</td>\n",
       "      <td>9</td>\n",
       "      <td>2</td>\n",
       "      <td>2017</td>\n",
       "      <td>65.0</td>\n",
       "      <td>4</td>\n",
       "    </tr>\n",
       "    <tr>\n",
       "      <th>3</th>\n",
       "      <td>252</td>\n",
       "      <td>0</td>\n",
       "      <td>2</td>\n",
       "      <td>2019</td>\n",
       "      <td>50.0</td>\n",
       "      <td>2</td>\n",
       "    </tr>\n",
       "    <tr>\n",
       "      <th>4</th>\n",
       "      <td>22</td>\n",
       "      <td>20</td>\n",
       "      <td>2</td>\n",
       "      <td>2019</td>\n",
       "      <td>39.5</td>\n",
       "      <td>2</td>\n",
       "    </tr>\n",
       "  </tbody>\n",
       "</table>\n",
       "</div>"
      ],
      "text/plain": [
       "   Title  Genre  Language  Premiere  Runtime  Seasons\n",
       "0    212     39         2      2016     60.0        3\n",
       "1    230     20         2      2016     54.0        4\n",
       "2    164      9         2      2017     65.0        4\n",
       "3    252      0         2      2019     50.0        2\n",
       "4     22     20         2      2019     39.5        2"
      ]
     },
     "execution_count": 28,
     "metadata": {},
     "output_type": "execute_result"
    }
   ],
   "source": [
    "data.Language = cat_language_le\n",
    "data.Genre = cat_genre_le\n",
    "data.Title = cat_title_le\n",
    "data.head()"
   ]
  },
  {
   "cell_type": "code",
   "execution_count": 29,
   "metadata": {},
   "outputs": [
    {
     "data": {
      "text/plain": [
       "Title         int64\n",
       "Genre         int64\n",
       "Language      int64\n",
       "Premiere      int64\n",
       "Runtime     float64\n",
       "Seasons       int64\n",
       "dtype: object"
      ]
     },
     "execution_count": 29,
     "metadata": {},
     "output_type": "execute_result"
    }
   ],
   "source": [
    "data.dtypes"
   ]
  },
  {
   "cell_type": "code",
   "execution_count": 30,
   "metadata": {},
   "outputs": [],
   "source": [
    "from sklearn.preprocessing import MinMaxScaler"
   ]
  },
  {
   "cell_type": "code",
   "execution_count": 31,
   "metadata": {},
   "outputs": [],
   "source": [
    "sc1 = MinMaxScaler()\n",
    "sc1_data = sc1.fit_transform(data[['Runtime']])"
   ]
  },
  {
   "cell_type": "code",
   "execution_count": 32,
   "metadata": {},
   "outputs": [
    {
     "data": {
      "image/png": "[encoded data removed]",
      "text/plain": [
       "<Figure size 432x288 with 1 Axes>"
      ]
     },
     "metadata": {
      "needs_background": "light"
     },
     "output_type": "display_data"
    }
   ],
   "source": [
    "plt.hist(data[['Runtime']],50)\n",
    "plt.show()"
   ]
  },
  {
   "cell_type": "code",
   "execution_count": 33,
   "metadata": {},
   "outputs": [
    {
     "data": {
      "image/png": "[encoded data removed]",
      "text/plain": [
       "<Figure size 432x288 with 1 Axes>"
      ]
     },
     "metadata": {
      "needs_background": "light"
     },
     "output_type": "display_data"
    }
   ],
   "source": [
    "plt.hist(sc1_data,50)\n",
    "plt.show()"
   ]
  }
 ],
 "metadata": {
  "interpreter": {
   "hash": "916dbcbb3f70747c44a77c7bcd40155683ae19c65e1c03b4aa3499c5328201f1"
  },
  "kernelspec": {
   "display_name": "Python 3 (ipykernel)",
   "language": "python",
   "name": "python3"
  },
  "language_info": {
   "codemirror_mode": {
    "name": "ipython",
    "version": 3
   },
   "file_extension": ".py",
   "mimetype": "text/x-python",
   "name": "python",
   "nbconvert_exporter": "python",
   "pygments_lexer": "ipython3",
   "version": "3.9.7"
  }
 },
 "nbformat": 4,
 "nbformat_minor": 2
}
